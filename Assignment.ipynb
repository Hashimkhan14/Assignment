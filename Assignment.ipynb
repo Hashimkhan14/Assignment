{
 "cells": [
  {
   "cell_type": "code",
   "execution_count": 14,
   "id": "43998d8d-6b37-4e92-b5eb-67ee015d5559",
   "metadata": {},
   "outputs": [
    {
     "data": {
      "text/plain": [
       "str"
      ]
     },
     "execution_count": 14,
     "metadata": {},
     "output_type": "execute_result"
    }
   ],
   "source": [
    "#String\n",
    "a='hashim'\n",
    "#a is a string variable that holds the value of 'hashim'\n",
    "type(a)"
   ]
  },
  {
   "cell_type": "code",
   "execution_count": 15,
   "id": "9835136b-ec69-4901-a9d2-0d85f2dcf368",
   "metadata": {},
   "outputs": [
    {
     "data": {
      "text/plain": [
       "list"
      ]
     },
     "execution_count": 15,
     "metadata": {},
     "output_type": "execute_result"
    }
   ],
   "source": [
    "#List\n",
    "l=[1,2,3,4,5,6]\n",
    "#l is a list variable that contains integers from 1 to 6\n",
    "type(l)"
   ]
  },
  {
   "cell_type": "code",
   "execution_count": 16,
   "id": "5829e08f-22ad-4fac-a116-0257ce582980",
   "metadata": {},
   "outputs": [
    {
     "data": {
      "text/plain": [
       "float"
      ]
     },
     "execution_count": 16,
     "metadata": {},
     "output_type": "execute_result"
    }
   ],
   "source": [
    "#Float\n",
    "b=2.5\n",
    "#b is a float variable that stores the value 2.5\n",
    "type(b)"
   ]
  },
  {
   "cell_type": "code",
   "execution_count": 18,
   "id": "df3f3916-156d-4433-ae91-1f2772438b7a",
   "metadata": {},
   "outputs": [
    {
     "data": {
      "text/plain": [
       "tuple"
      ]
     },
     "execution_count": 18,
     "metadata": {},
     "output_type": "execute_result"
    }
   ],
   "source": [
    "#Tuple\n",
    "c=(5,10,15,20,25)\n",
    "#c is a tuple variable that contains integers from 5 to 25 in increments of 5\n",
    "type(c)"
   ]
  },
  {
   "cell_type": "code",
   "execution_count": 5,
   "id": "266829b2-7988-4b14-8306-2cb5dd5d480b",
   "metadata": {},
   "outputs": [
    {
     "data": {
      "text/plain": [
       "str"
      ]
     },
     "execution_count": 5,
     "metadata": {},
     "output_type": "execute_result"
    }
   ],
   "source": [
    "#Variable containing data\n",
    "v1=''\n",
    "#v1 is a string variable. It contain a single space character, so its data type is str\n",
    "type(v1)"
   ]
  },
  {
   "cell_type": "code",
   "execution_count": 7,
   "id": "fd5a8941-c1ed-40fc-98c5-3b8c1cdc2ae2",
   "metadata": {},
   "outputs": [
    {
     "data": {
      "text/plain": [
       "str"
      ]
     },
     "execution_count": 7,
     "metadata": {},
     "output_type": "execute_result"
    }
   ],
   "source": [
    "v2='[DS,ML,Python]'\n",
    "'''v2 is a string variable. It contain a string representation of a list,including square brackets \n",
    "and comma separated elements. Therefore, its data type is str'''\n",
    "type(v2)"
   ]
  },
  {
   "cell_type": "code",
   "execution_count": 9,
   "id": "c26c0176-a116-4d9d-bc42-a797dce508e5",
   "metadata": {},
   "outputs": [
    {
     "data": {
      "text/plain": [
       "list"
      ]
     },
     "execution_count": 9,
     "metadata": {},
     "output_type": "execute_result"
    }
   ],
   "source": [
    "v3=['DS','ML','Python']\n",
    "#v3 is a list variable. It contains three strings:'DS','ML','Python'. hence, its data type is list\n",
    "type(v3)"
   ]
  },
  {
   "cell_type": "code",
   "execution_count": 11,
   "id": "d2c492ad-0bfb-4eed-87a7-94ac56f73bf5",
   "metadata": {},
   "outputs": [
    {
     "data": {
      "text/plain": [
       "float"
      ]
     },
     "execution_count": 11,
     "metadata": {},
     "output_type": "execute_result"
    }
   ],
   "source": [
    "v4=1.\n",
    "'''v4 is a float variable. It holds the value 1.0, which has a decimal point,indicating it is a \n",
    "floating point number. Thus, its data type is float'''\n",
    "type(v4)"
   ]
  },
  {
   "cell_type": "code",
   "execution_count": 19,
   "id": "e4b5085a-6c90-419e-a804-1224cacd0703",
   "metadata": {},
   "outputs": [
    {
     "name": "stdout",
     "output_type": "stream",
     "text": [
      "2.5\n"
     ]
    }
   ],
   "source": [
    "'''The '/' operator is the division operator in python. It is used to perform division between two numbers,\n",
    "and it returns the quotient. Here's an example'''\n",
    "a=10\n",
    "b=4\n",
    "c=a/b\n",
    "print(c)"
   ]
  },
  {
   "cell_type": "code",
   "execution_count": 24,
   "id": "4e52c2f0-5368-4489-b2a2-c77638fabee6",
   "metadata": {},
   "outputs": [
    {
     "name": "stdout",
     "output_type": "stream",
     "text": [
      "2\n"
     ]
    }
   ],
   "source": [
    "'''The '%' operator is the modulus operator in python. It is used to find the remainder of the division\n",
    "between two numbers. Here's an example'''\n",
    "a=10\n",
    "b=4\n",
    "c=10%4\n",
    "print(c)"
   ]
  },
  {
   "cell_type": "code",
   "execution_count": 25,
   "id": "5857a7f8-7864-4f00-b680-8267cf7fe3c6",
   "metadata": {},
   "outputs": [
    {
     "name": "stdout",
     "output_type": "stream",
     "text": [
      "2\n"
     ]
    }
   ],
   "source": [
    "a=10\n",
    "b=4\n",
    "c=a//b\n",
    "print(c)"
   ]
  },
  {
   "cell_type": "code",
   "execution_count": 26,
   "id": "8c8ca705-dd28-429a-944a-c1a43db64fd8",
   "metadata": {},
   "outputs": [
    {
     "name": "stdout",
     "output_type": "stream",
     "text": [
      "2\n"
     ]
    }
   ],
   "source": [
    "'''The '//' operator is the floor division operator in python. It performs division between two numbers \n",
    "and returns the quotient as an integer, discarding any decimal places. Here's an example'''\n",
    "a=10\n",
    "b=4\n",
    "c=10//4\n",
    "print(c)"
   ]
  },
  {
   "cell_type": "code",
   "execution_count": 27,
   "id": "57aa571f-4346-4c88-90e5-5fc3e99a52ae",
   "metadata": {},
   "outputs": [
    {
     "name": "stdout",
     "output_type": "stream",
     "text": [
      "125\n"
     ]
    }
   ],
   "source": [
    "'''The '**' operator is the exponentiation opeartor in python. It is used to raise a number to a \n",
    "certain power. Here's an example'''\n",
    "a=5\n",
    "b=3\n",
    "c=a**b\n",
    "print(c)"
   ]
  },
  {
   "cell_type": "code",
   "execution_count": 35,
   "id": "bf5a00f8-eece-43fe-a8bf-214a5e314a8a",
   "metadata": {},
   "outputs": [
    {
     "name": "stdout",
     "output_type": "stream",
     "text": [
      "<class 'int'>\n",
      "5\n",
      "<class 'str'>\n",
      "hashim\n",
      "<class 'float'>\n",
      "2.5\n",
      "<class 'bool'>\n",
      "True\n",
      "<class 'complex'>\n",
      "(5+8j)\n",
      "<class 'bool'>\n",
      "False\n",
      "<class 'str'>\n",
      "khan\n",
      "<class 'tuple'>\n",
      "(1, 2, 3)\n",
      "<class 'int'>\n",
      "7\n",
      "<class 'int'>\n",
      "12\n"
     ]
    }
   ],
   "source": [
    "'''Here's an example of creating a list of length 10 with various types of data and then using a\n",
    "for loop to print each element along with its data type'''\n",
    "\n",
    "l=[5,'hashim',2.5,True,5+8j,False,'khan',(1,2,3),7,12]\n",
    "for a in l:\n",
    "    print(type(a))\n",
    "    print(a)\n",
    "'''In the above code, I have created a list 'l' with 10 elements of different types such as integers, \n",
    "Strings, floats,booleans, complex, tuple."
   ]
  },
  {
   "cell_type": "code",
   "execution_count": 7,
   "id": "c1a390f2-7259-4ff8-a000-1a4204025852",
   "metadata": {},
   "outputs": [
    {
     "name": "stdout",
     "output_type": "stream",
     "text": [
      "the number A can be divided by B 1 times\n",
      "the number A can be divided by B 2 times\n"
     ]
    },
    {
     "data": {
      "text/plain": [
       "\"In the above code, we have number A=100 and number B=5. The variable 'count' is used to keep the \\ntrack of how many times A can be divided by B.\\nThe while loop condition 'A%B==0' checks if A is purely divisible by B. If the condition is true, \\nit means A can be divided by B without leaving a remainder. Inside the loop, we perform integer division\\n'A//B' to divide A by B and update the value of A accordingly. We also increment the count by 1.\\nThe loop continues as long as A is divisible by B. Once A is not divided by B anymore, the loop terminates,\\nand we print the final count of how many times A could be divided by B.\""
      ]
     },
     "execution_count": 7,
     "metadata": {},
     "output_type": "execute_result"
    }
   ],
   "source": [
    "'''Here is an example of using while loop to verify if a number A is purly divisible by number B\n",
    "and calculating how many times it can be devided'''\n",
    "A=200\n",
    "B=5\n",
    "count=0\n",
    "while A%B==0:\n",
    "    A=A//B\n",
    "    count+=1\n",
    "    print(f'the number A can be divided by B {count} times')\n",
    "\n",
    "#The number A can be divided by B 2 times\n",
    "'''In the above code, we have number A=100 and number B=5. The variable 'count' is used to keep the \n",
    "track of how many times A can be divided by B.\n",
    "The while loop condition 'A%B==0' checks if A is purely divisible by B. If the condition is true, \n",
    "it means A can be divided by B without leaving a remainder. Inside the loop, we perform integer division\n",
    "'A//B' to divide A by B and update the value of A accordingly. We also increment the count by 1.\n",
    "The loop continues as long as A is divisible by B. Once A is not divided by B anymore, the loop terminates,\n",
    "and we print the final count of how many times A could be divided by B.'''\n"
   ]
  },
  {
   "cell_type": "code",
   "execution_count": 9,
   "id": "0dcfa007-9d32-4fbe-beed-5b45a1ed82bf",
   "metadata": {},
   "outputs": [
    {
     "name": "stdout",
     "output_type": "stream",
     "text": [
      "1 is not divisible by 3\n",
      "2 is not divisible by 3\n",
      "3 is divisible by 3\n",
      "4 is not divisible by 3\n",
      "5 is not divisible by 3\n",
      "6 is divisible by 3\n",
      "7 is not divisible by 3\n",
      "8 is not divisible by 3\n",
      "9 is divisible by 3\n",
      "10 is not divisible by 3\n",
      "11 is not divisible by 3\n",
      "12 is divisible by 3\n",
      "13 is not divisible by 3\n",
      "14 is not divisible by 3\n",
      "15 is divisible by 3\n",
      "16 is not divisible by 3\n",
      "17 is not divisible by 3\n",
      "18 is divisible by 3\n",
      "19 is not divisible by 3\n",
      "20 is not divisible by 3\n",
      "21 is divisible by 3\n",
      "22 is not divisible by 3\n",
      "23 is not divisible by 3\n",
      "24 is divisible by 3\n",
      "25 is not divisible by 3\n"
     ]
    },
    {
     "data": {
      "text/plain": [
       "\"In the above code, I have created a list 'l' containing 25 integer elements. The for loop iterates over \\neach element in the list. The if-else condition checks if the element is divisible by 3 by checking if the \\nremainder of the division 'i%3' is 0. If it is 0, the element is divisible by 3 and the corresponding message\\nis printed. Otherwise, if the remainder is non zero, the element is not devided by 3, and the respective \\nmessage is printed.\""
      ]
     },
     "execution_count": 9,
     "metadata": {},
     "output_type": "execute_result"
    }
   ],
   "source": [
    "'''Here is an example of creating a list containing 25 integer data and using a for loop with an if-else \n",
    "condition to print whether each element is divisible by 3 or not'''\n",
    "\n",
    "l=[1,2,3,4,5,6,7,8,9,10,11,12,13,14,15,16,17,18,19,20,21,22,23,24,25]\n",
    "for i in l:\n",
    "    if i%3==0:\n",
    "        print(f'{i} is divisible by 3')\n",
    "    else:\n",
    "        print(f'{i} is not divisible by 3')\n",
    "'''In the above code, I have created a list 'l' containing 25 integer elements. The for loop iterates over \n",
    "each element in the list. The if-else condition checks if the element is divisible by 3 by checking if the \n",
    "remainder of the division 'i%3' is 0. If it is 0, the element is divisible by 3 and the corresponding message\n",
    "is printed. Otherwise, if the remainder is non zero, the element is not devided by 3, and the respective \n",
    "message is printed.'''"
   ]
  },
  {
   "cell_type": "code",
   "execution_count": null,
   "id": "acfea72e-f278-462a-8ff3-571c6147f218",
   "metadata": {},
   "outputs": [
    {
     "name": "stdout",
     "output_type": "stream",
     "text": [
      "[1, 2, 3, 9, 5, 6]\n"
     ]
    },
    {
     "data": {
      "text/plain": [
       "\"In the above code, we have a list variable 'n' containing integers from 1to 6. We modifty the third \\nelement of the by assigning a new value of 9 to 'n[3]'. The list is mutable, so the modification is \\nallowed, and the value of 'n' is updated accordingly\""
      ]
     },
     "execution_count": 13,
     "metadata": {},
     "output_type": "execute_result"
    }
   ],
   "source": [
    "#Mutable and Immutable data type:\n",
    "'''In python, data type can be classified as either mutable or immutable based on whether their values can\n",
    "be changed after they are created.'''\n",
    "#Mutable\n",
    "'''Mutable data types are those whose values can be modified after they are created. Lets take an example to \n",
    "demonstarte the mutability of a list'''\n",
    "\n",
    "n=[1,2,3,4,5,6]\n",
    "n[3]=9\n",
    "print(n)\n",
    "'''In the above code, we have a list variable 'n' containing integers from 1to 6. We modifty the third \n",
    "element of the by assigning a new value of 9 to 'n[3]'. The list is mutable, so the modification is \n",
    "allowed, and the value of 'n' is updated accordingly'''"
   ]
  },
  {
   "cell_type": "code",
   "execution_count": 17,
   "id": "d46e5643-6a3f-4156-a44d-8218c7a12082",
   "metadata": {},
   "outputs": [
    {
     "name": "stdout",
     "output_type": "stream",
     "text": [
      "hashim\n",
      "HASHIM\n"
     ]
    },
    {
     "data": {
      "text/plain": [
       "\"In the above code, we have a string variable 'n' assigned the value 'hashim'. When we call the 'upper()'\\nmethode on 'n', it returns a new string with all characters in uppercase and assigns it to 'n1'. However, \\nthe original string 'n' remains unchanged. This behaviour illustrates the immutability of string\""
      ]
     },
     "execution_count": 17,
     "metadata": {},
     "output_type": "execute_result"
    }
   ],
   "source": [
    "#Immutable \n",
    "'''Immutable data types are those whose values cannot be modified once they are assigned. Any attempt to modify\n",
    "an immutable object will result in the creation of new object with the update value. Example of immutable data \n",
    "types in python include strings etc. \n",
    "Here is an example to demonstrate the immutability of string:'''\n",
    "\n",
    "n='hashim'\n",
    "n1=n.upper()\n",
    "print(n)\n",
    "print(n1)\n",
    "'''In the above code, we have a string variable 'n' assigned the value 'hashim'. When we call the 'upper()'\n",
    "methode on 'n', it returns a new string with all characters in uppercase and assigns it to 'n1'. However, \n",
    "the original string 'n' remains unchanged. This behaviour illustrates the immutability of string'''"
   ]
  },
  {
   "cell_type": "code",
   "execution_count": 18,
   "id": "317d2886-1b45-4867-be09-2c9d75e99e8c",
   "metadata": {},
   "outputs": [
    {
     "name": "stdout",
     "output_type": "stream",
     "text": [
      "hashim\n"
     ]
    }
   ],
   "source": [
    "n='hashim'\n",
    "print(n)"
   ]
  },
  {
   "cell_type": "code",
   "execution_count": 16,
   "id": "32edf7e5-6cb3-4b61-82a6-a411d3e11e49",
   "metadata": {},
   "outputs": [
    {
     "name": "stdout",
     "output_type": "stream",
     "text": [
      "HASHIM\n"
     ]
    }
   ],
   "source": [
    "n1=n.upper()\n",
    "print(n1)"
   ]
  }
 ],
 "metadata": {
  "kernelspec": {
   "display_name": "Python 3 (ipykernel)",
   "language": "python",
   "name": "python3"
  },
  "language_info": {
   "codemirror_mode": {
    "name": "ipython",
    "version": 3
   },
   "file_extension": ".py",
   "mimetype": "text/x-python",
   "name": "python",
   "nbconvert_exporter": "python",
   "pygments_lexer": "ipython3",
   "version": "3.10.8"
  }
 },
 "nbformat": 4,
 "nbformat_minor": 5
}
